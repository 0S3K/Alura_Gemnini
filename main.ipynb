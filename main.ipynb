{
 "cells": [
  {
   "cell_type": "code",
   "execution_count": 9,
   "metadata": {},
   "outputs": [],
   "source": [
    "import pandas as pd\n",
    "import numbers as num\n",
    "import numpy as np\n"
   ]
  },
  {
   "cell_type": "code",
   "execution_count": 8,
   "metadata": {},
   "outputs": [
    {
     "name": "stdout",
     "output_type": "stream",
     "text": [
      "=== SISTEMA DE SAÚDE E BEM-ESTAR ===\n",
      "\n",
      "--- SUGESTÕES DE ALIMENTAÇÃO ---\n",
      "Consuma alimentos ricos em proteínas, fibras, vitaminas e minerais.\n",
      "Evite alimentos que contenham não.\n",
      "Priorize frutas, legumes, verduras, carnes magras e grãos integrais.\n",
      "Beba bastante água ao longo do dia.\n",
      "\n",
      "--- SUGESTÕES DE TREINO LOCALIZADO ---\n",
      "Natação, ciclismo, dança\n",
      "Consulte um profissional de educação física para um plano personalizado.\n",
      "\n",
      "--- RESULTADOS ---\n",
      "Olá vitor,\n",
      "Com base no seu peso de 80.0 kg, você deve beber aproximadamente 2.8 litros de água por dia.\n",
      "Atenção: Como a temperatura local é alta, considere aumentar sua ingestão de água.\n"
     ]
    }
   ],
   "source": [
    "def calcular_agua(peso):\n",
    "  \"\"\"Calcula a quantidade de água recomendada em litros com base no peso.\"\"\"\n",
    "  if peso < 0:\n",
    "    print(\"\\nPeso menor ou igual do que 0...\")\n",
    "  else:\n",
    "    return peso * 0.035\n",
    "\n",
    "def obter_treino_localizado(objetivo):\n",
    "  \"\"\"Retorna sugestões de treino localizado com base no objetivo.\"\"\"\n",
    "  treinos = {\n",
    "      \"perder peso\": \"Treino HIIT, circuito funcional, corrida intervalada\",\n",
    "      \"ganhar massa muscular\": \"Musculação com foco em hipertrofia, treinos de força\",\n",
    "      \"tonificar\": \"Pilates, yoga, exercícios com peso corporal\",\n",
    "      \"melhorar condicionamento físico\": \"Natação, ciclismo, dança\"\n",
    "  }\n",
    "  return treinos.get(objetivo, \"Consulte um profissional para um plano personalizado.\")\n",
    "\n",
    "def main():\n",
    "  \"\"\"Programa principal para registro de dados, cálculo de ingestão de água, \n",
    "  sugestões de alimentação e treino localizado.\"\"\"\n",
    "\n",
    "  print(\"=== SISTEMA DE SAÚDE E BEM-ESTAR ===\")\n",
    "\n",
    "  # Tela de Login\n",
    "  nome = input(\"Digite seu nome: \")\n",
    "  cpf = input(\"Digite seu CPF: \")\n",
    "  email = input(\"Digite seu email: \")\n",
    "\n",
    "  # Dados de saúde\n",
    "  peso = float(input(\"Digite seu peso em kg: \"))\n",
    "  temperatura_local = float(input(\"Digite a temperatura local em Celsius: \"))\n",
    "\n",
    "  # Cálculo da água\n",
    "  agua_recomendada = calcular_agua(peso)\n",
    "\n",
    "  # Informações adicionais\n",
    "  objetivo = input(\"Qual seu principal objetivo (perder peso, ganhar massa muscular, \"\n",
    "                    \"tonificar, melhorar condicionamento físico)? \").lower()\n",
    "  alergias = input(\"Você possui alguma alergia alimentar? Se sim, quais? \").lower()\n",
    "\n",
    "  # Sugestões de alimentação (genéricas, consulte um nutricionista)\n",
    "  print(\"\\n--- SUGESTÕES DE ALIMENTAÇÃO ---\")\n",
    "  print(\"Consuma alimentos ricos em proteínas, fibras, vitaminas e minerais.\")\n",
    "  if alergias:\n",
    "    print(f\"Evite alimentos que contenham {alergias}.\")\n",
    "  print(\"Priorize frutas, legumes, verduras, carnes magras e grãos integrais.\")\n",
    "  print(\"Beba bastante água ao longo do dia.\")\n",
    "\n",
    "  # Sugestões de treino localizado\n",
    "  print(\"\\n--- SUGESTÕES DE TREINO LOCALIZADO ---\")\n",
    "  print(obter_treino_localizado(objetivo))\n",
    "  print(\"Consulte um profissional de educação física para um plano personalizado.\")\n",
    "\n",
    "  # Exibição dos resultados\n",
    "  print(\"\\n--- RESULTADOS ---\")\n",
    "  print(f\"Olá {nome},\")\n",
    "  print(f\"Com base no seu peso de {peso:.1f} kg, você deve beber aproximadamente {agua_recomendada:.1f} litros de água por dia.\")\n",
    "\n",
    "  if temperatura_local > 25:\n",
    "    print(\"Atenção: Como a temperatura local é alta, considere aumentar sua ingestão de água.\")\n",
    "\n",
    "if __name__ == \"__main__\":\n",
    "  main()"
   ]
  },
  {
   "cell_type": "code",
   "execution_count": 1,
   "metadata": {},
   "outputs": [
    {
     "ename": "ModuleNotFoundError",
     "evalue": "No module named 'flask'",
     "output_type": "error",
     "traceback": [
      "\u001b[1;31m---------------------------------------------------------------------------\u001b[0m",
      "\u001b[1;31mModuleNotFoundError\u001b[0m                       Traceback (most recent call last)",
      "Cell \u001b[1;32mIn[1], line 5\u001b[0m\n\u001b[0;32m      3\u001b[0m \u001b[38;5;28;01mimport\u001b[39;00m \u001b[38;5;21;01msmtplib\u001b[39;00m\n\u001b[0;32m      4\u001b[0m \u001b[38;5;28;01mfrom\u001b[39;00m \u001b[38;5;21;01memail\u001b[39;00m\u001b[38;5;21;01m.\u001b[39;00m\u001b[38;5;21;01mmime\u001b[39;00m\u001b[38;5;21;01m.\u001b[39;00m\u001b[38;5;21;01mtext\u001b[39;00m \u001b[38;5;28;01mimport\u001b[39;00m MIMEText\n\u001b[1;32m----> 5\u001b[0m \u001b[38;5;28;01mfrom\u001b[39;00m \u001b[38;5;21;01mflask\u001b[39;00m \u001b[38;5;28;01mimport\u001b[39;00m Flask, render_template, request, redirect, url_for\n\u001b[0;32m      6\u001b[0m \u001b[38;5;28;01mfrom\u001b[39;00m \u001b[38;5;21;01mwerkzeug\u001b[39;00m\u001b[38;5;21;01m.\u001b[39;00m\u001b[38;5;21;01msecurity\u001b[39;00m \u001b[38;5;28;01mimport\u001b[39;00m generate_password_hash, check_password_hash\n\u001b[0;32m      8\u001b[0m \u001b[38;5;66;03m# ... (Configuração de banco de dados, conexão SMTP, etc.) ...\u001b[39;00m\n",
      "\u001b[1;31mModuleNotFoundError\u001b[0m: No module named 'flask'"
     ]
    }
   ],
   "source": []
  }
 ],
 "metadata": {
  "kernelspec": {
   "display_name": "Python 3",
   "language": "python",
   "name": "python3"
  },
  "language_info": {
   "codemirror_mode": {
    "name": "ipython",
    "version": 3
   },
   "file_extension": ".py",
   "mimetype": "text/x-python",
   "name": "python",
   "nbconvert_exporter": "python",
   "pygments_lexer": "ipython3",
   "version": "3.11.9"
  }
 },
 "nbformat": 4,
 "nbformat_minor": 2
}
